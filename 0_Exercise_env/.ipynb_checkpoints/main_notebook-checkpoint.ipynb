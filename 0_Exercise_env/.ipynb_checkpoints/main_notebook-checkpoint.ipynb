{
 "cells": [
  {
   "cell_type": "code",
   "execution_count": 1,
   "id": "d870ec15-1499-4c84-8902-b6243e3a364f",
   "metadata": {},
   "outputs": [
    {
     "name": "stdout",
     "output_type": "stream",
     "text": [
      "Large drift, new accuracy:  0.654\n",
      "Small drift, new accuracy:  0.873\n"
     ]
    }
   ],
   "source": [
    "from sklearn.datasets import make_classification\n",
    "from sklearn.linear_model import LogisticRegression\n",
    "from sklearn.metrics import accuracy_score\n",
    "import numpy as np\n",
    "\n",
    "# Function to create dataset with a specified drift\n",
    "def create_dataset(n_samples=1000, drift_factor=0.0):\n",
    "    X, y = make_classification(n_samples=n_samples, n_features=20, n_classes=2, random_state=42)\n",
    "    # Introducing drift by shifting the feature values\n",
    "    X_drifted = X + drift_factor * np.random.rand(*X.shape)\n",
    "    return X_drifted, y\n",
    "\n",
    "# Create initial training dataset\n",
    "X_train, y_train = create_dataset()\n",
    "\n",
    "# Case 1: Large drift\n",
    "# The model's accuracy dropped to 70%, suggesting a significant impact due to the large drift, which might necessitate retraining.\n",
    "\n",
    "# Create a test dataset with significant drift\n",
    "X_test_large_drift, y_test_large_drift = create_dataset(drift_factor=5.0)\n",
    "\n",
    "# Train the model\n",
    "model = LogisticRegression()\n",
    "model.fit(X_train, y_train)\n",
    "\n",
    "# Evaluate the model on the test set with large drift\n",
    "y_pred_large_drift = model.predict(X_test_large_drift)\n",
    "accuracy_large_drift = accuracy_score(y_test_large_drift, y_pred_large_drift)\n",
    "print(\"Large drift, new accuracy: \", accuracy_large_drift)\n",
    "\n",
    "# Case 2 (Small Drift): The model maintained a relatively high accuracy of 86.7%, \n",
    "# indicating that the small drift did not critically impair its performance, and retraining may not be necessary at this stage.\n",
    "\n",
    "# Case 2: Small drift\n",
    "# Create a test dataset with minor drift\n",
    "X_test_small_drift, y_test_small_drift = create_dataset(drift_factor=1.0)\n",
    "\n",
    "# Evaluate the model on the test set with small drift\n",
    "y_pred_small_drift = model.predict(X_test_small_drift)\n",
    "accuracy_small_drift = accuracy_score(y_test_small_drift, y_pred_small_drift)\n",
    "accuracy_small_drift\n",
    "\n",
    "print(\"Small drift, new accuracy: \", accuracy_small_drift)"
   ]
  },
  {
   "cell_type": "code",
   "execution_count": null,
   "id": "5bd149bb-24bf-4ca9-9f62-dbf0d0260ab4",
   "metadata": {},
   "outputs": [],
   "source": []
  }
 ],
 "metadata": {
  "kernelspec": {
   "display_name": "Python 3 (ipykernel)",
   "language": "python",
   "name": "python3"
  },
  "language_info": {
   "codemirror_mode": {
    "name": "ipython",
    "version": 3
   },
   "file_extension": ".py",
   "mimetype": "text/x-python",
   "name": "python",
   "nbconvert_exporter": "python",
   "pygments_lexer": "ipython3",
   "version": "3.11.5"
  }
 },
 "nbformat": 4,
 "nbformat_minor": 5
}
